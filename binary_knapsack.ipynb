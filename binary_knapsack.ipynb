{
 "cells": [
  {
   "cell_type": "code",
   "execution_count": null,
   "metadata": {},
   "outputs": [],
   "source": [
    "import pyomo.environ as pe\n",
    "import pyomo.opt as po"
   ]
  },
  {
   "cell_type": "code",
   "execution_count": null,
   "metadata": {},
   "outputs": [],
   "source": [
    "optimizer = po.SolverFactory('gurobi')"
   ]
  },
  {
   "cell_type": "markdown",
   "metadata": {},
   "source": [
    "\\begin{align}\n",
    "    \\text{max}~~  & 3 x_1 + 4 x_2 + 5 x_3 + 8 x_4 + 10 x_5 \\\\\n",
    "    \\text{s.t.}~~ & 2 x_1 + 3 x_2 + 4 x_3 + 7 x_4 +  9 x_5 \\le 20 \\\\\n",
    "                  & x_1, x_2, x_3, x_4, x_5 \\in \\{0, 1\\}\n",
    "\\end{align}"
   ]
  },
  {
   "cell_type": "code",
   "execution_count": null,
   "metadata": {},
   "outputs": [],
   "source": [
    "inst = pe.ConcreteModel()"
   ]
  },
  {
   "cell_type": "code",
   "execution_count": null,
   "metadata": {},
   "outputs": [],
   "source": [
    "inst.x1 = pe.Var(domain=pe.Binary)\n",
    "inst.x2 = pe.Var(domain=pe.Binary)\n",
    "inst.x3 = pe.Var(domain=pe.Binary)\n",
    "inst.x4 = pe.Var(domain=pe.Binary)\n",
    "inst.x5 = pe.Var(domain=pe.Binary)"
   ]
  },
  {
   "cell_type": "code",
   "execution_count": null,
   "metadata": {},
   "outputs": [],
   "source": [
    "obj_expr = 3 * inst.x1 + 4 * inst.x2 + 5 * inst.x3 + 8 * inst.x4 + 10 * inst.x5\n",
    "inst.obj = pe.Objective(sense=pe.maximize, expr=obj_expr)"
   ]
  },
  {
   "cell_type": "code",
   "execution_count": null,
   "metadata": {},
   "outputs": [],
   "source": [
    "con_expr = 2 * inst.x1 + 3 * inst.x2 + 4 * inst.x3 + 5 * inst.x4 + 9 * inst.x5 <= 20\n",
    "inst.con = pe.Constraint(expr=con_expr)"
   ]
  },
  {
   "cell_type": "code",
   "execution_count": null,
   "metadata": {},
   "outputs": [],
   "source": [
    "result = optimizer.solve(inst)"
   ]
  },
  {
   "cell_type": "code",
   "execution_count": null,
   "metadata": {},
   "outputs": [],
   "source": [
    "print(inst.x1.value)\n",
    "print(inst.x2.value)\n",
    "print(inst.x3.value)\n",
    "print(inst.x4.value)\n",
    "print(inst.x5.value)"
   ]
  },
  {
   "cell_type": "code",
   "execution_count": null,
   "metadata": {},
   "outputs": [],
   "source": [
    "inst.obj()"
   ]
  },
  {
   "cell_type": "markdown",
   "metadata": {},
   "source": [
    "\\begin{align}\n",
    "    \\text{max}~~  & \\sum_{i \\in N}{c_i x_i} \\\\\n",
    "    \\text{s.t.}~~ & \\sum_{i \\in N}{a_i x_i} \\le b \\\\\n",
    "                  & x_i \\in \\{0, 1\\}, \\forall i \\in N\n",
    "\\end{align}"
   ]
  },
  {
   "cell_type": "code",
   "execution_count": null,
   "metadata": {},
   "outputs": [],
   "source": [
    "inst = pe.ConcreteModel()"
   ]
  },
  {
   "cell_type": "code",
   "execution_count": null,
   "metadata": {},
   "outputs": [],
   "source": [
    "inst.N = pe.RangeSet(1, 5)"
   ]
  },
  {
   "cell_type": "code",
   "execution_count": null,
   "metadata": {},
   "outputs": [],
   "source": [
    "print(inst.N)\n",
    "print(list(inst.N))"
   ]
  },
  {
   "cell_type": "code",
   "execution_count": null,
   "metadata": {},
   "outputs": [],
   "source": [
    "c = {1: 3, 2: 4, 3: 5, 4: 8, 5: 10}\n",
    "a = {1: 2, 2: 3, 3: 4, 4: 5, 5: 9}\n",
    "b = 20"
   ]
  },
  {
   "cell_type": "code",
   "execution_count": null,
   "metadata": {},
   "outputs": [],
   "source": [
    "inst.c = pe.Param(inst.N, initialize=c)\n",
    "inst.a = pe.Param(inst.N, initialize=a)\n",
    "inst.b = pe.Param(initialize=b)"
   ]
  },
  {
   "cell_type": "code",
   "execution_count": null,
   "metadata": {},
   "outputs": [],
   "source": [
    "print(inst.c)\n",
    "print(inst.c[2])\n",
    "print(inst.b)\n",
    "print(inst.b.value)"
   ]
  },
  {
   "cell_type": "code",
   "execution_count": null,
   "metadata": {},
   "outputs": [],
   "source": [
    "inst.x = pe.Var(inst.N, domain=pe.Binary)"
   ]
  },
  {
   "cell_type": "code",
   "execution_count": null,
   "metadata": {},
   "outputs": [],
   "source": [
    "obj_expr = sum(inst.c[i] * inst.x[i] for i in inst.N)\n",
    "inst.obj = pe.Objective(sense=pe.maximize, expr=obj_expr)"
   ]
  },
  {
   "cell_type": "code",
   "execution_count": null,
   "metadata": {},
   "outputs": [],
   "source": [
    "con_expr = sum(inst.a[i] * inst.x[i] for i in inst.N) <= inst.b\n",
    "inst.con = pe.Constraint(expr=con_expr)"
   ]
  },
  {
   "cell_type": "code",
   "execution_count": null,
   "metadata": {},
   "outputs": [],
   "source": [
    "result = optimizer.solve(inst)"
   ]
  },
  {
   "cell_type": "code",
   "execution_count": null,
   "metadata": {},
   "outputs": [],
   "source": [
    "for i in inst.N:\n",
    "    print(inst.x[i].value)"
   ]
  },
  {
   "cell_type": "code",
   "execution_count": null,
   "metadata": {},
   "outputs": [],
   "source": [
    "print(inst.obj())"
   ]
  },
  {
   "cell_type": "code",
   "execution_count": null,
   "metadata": {},
   "outputs": [],
   "source": [
    "# make N a subset of what we really want\n",
    "inst = pe.ConcreteModel()\n",
    "inst.N = pe.RangeSet(1, 4)\n",
    "inst.c = pe.Param(inst.N, initialize=c)\n",
    "inst.a = pe.Param(inst.N, initialize=a)\n",
    "inst.b = pe.Param(initialize=b)\n",
    "inst.x = pe.Var(inst.N, domain=pe.Binary)\n",
    "obj_expr = sum(inst.c[i] * inst.x[i] for i in inst.N)\n",
    "inst.obj = pe.Objective(sense=pe.maximize, expr=obj_expr)\n",
    "con_expr = sum(inst.a[i] * inst.x[i] for i in inst.N) <= inst.b\n",
    "inst.con = pe.Constraint(expr=con_expr)"
   ]
  },
  {
   "cell_type": "code",
   "execution_count": null,
   "metadata": {},
   "outputs": [],
   "source": [
    "# make N a superset of what we really want\n",
    "inst = pe.ConcreteModel()\n",
    "inst.N = pe.RangeSet(1, 20)\n",
    "inst.c = pe.Param(inst.N, initialize=c)\n",
    "inst.a = pe.Param(inst.N, initialize=a)\n",
    "inst.b = pe.Param(initialize=b)\n",
    "inst.x = pe.Var(inst.N, domain=pe.Binary)\n",
    "obj_expr = sum(inst.c[i] * inst.x[i] for i in inst.N)\n",
    "inst.obj = pe.Objective(sense=pe.maximize, expr=obj_expr)\n",
    "con_expr = sum(inst.a[i] * inst.x[i] for i in inst.N) <= inst.b\n",
    "inst.con = pe.Constraint(expr=con_expr)"
   ]
  }
 ],
 "metadata": {
  "kernelspec": {
   "display_name": "Python 3",
   "language": "python",
   "name": "python3"
  },
  "language_info": {
   "codemirror_mode": {
    "name": "ipython",
    "version": 3
   },
   "file_extension": ".py",
   "mimetype": "text/x-python",
   "name": "python",
   "nbconvert_exporter": "python",
   "pygments_lexer": "ipython3",
   "version": "3.7.4"
  }
 },
 "nbformat": 4,
 "nbformat_minor": 4
}
