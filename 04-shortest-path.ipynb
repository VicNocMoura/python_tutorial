{
 "cells": [
  {
   "cell_type": "code",
   "execution_count": null,
   "metadata": {},
   "outputs": [],
   "source": [
    "from collections import defaultdict\n",
    "\n",
    "import matplotlib.pyplot as plt\n",
    "import networkx as nx\n",
    "import pyomo.environ as pe\n",
    "import pyomo.opt as po"
   ]
  },
  {
   "cell_type": "markdown",
   "metadata": {},
   "source": [
    "## Define the Graph"
   ]
  },
  {
   "cell_type": "code",
   "execution_count": null,
   "metadata": {},
   "outputs": [],
   "source": [
    "nodes = {0, 1, 2, 3, 4, 5, 6, 7, 8, 9}\n",
    "edges = {(0, 1), (0, 2), (0, 3), (1, 4),\n",
    "         (1, 6), (2, 1), (2, 3), (2, 5),\n",
    "         (3, 5), (4, 2), (5, 7), (5, 8),\n",
    "         (6, 4), (6, 7), (6, 9), (7, 4),\n",
    "         (7, 9), (8, 3), (8, 7), (8, 9)}\n",
    "distances = {(0, 1): 40, (0, 2):  8, (0, 3): 10, (1, 4):  6,\n",
    "             (1, 6): 10, (2, 1):  4, (2, 3): 12, (2, 5):  2,\n",
    "             (3, 5):  1, (4, 2):  2, (5, 7):  4, (5, 8):  3,\n",
    "             (6, 4):  8, (6, 7): 20, (6, 9):  1, (7, 4):  0,\n",
    "             (7, 9): 20, (8, 3):  6, (8, 7): 10, (8, 9):  2}"
   ]
  },
  {
   "cell_type": "markdown",
   "metadata": {},
   "source": [
    "## Visualize Graph with NetworkX"
   ]
  },
  {
   "cell_type": "code",
   "execution_count": null,
   "metadata": {},
   "outputs": [],
   "source": [
    "graph = nx.DiGraph()\n",
    "graph.add_nodes_from(list(nodes))\n",
    "graph.add_edges_from(list(edges))\n",
    "pos = ({0: (4, 0), 1: (0, 0), 2: (4, 2), 3: (8, 0), 4: (2, 4),\n",
    "        5: (6, 4), 6: (0, 8), 7: (4, 6), 8: (8, 8), 9: (4, 8)})"
   ]
  },
  {
   "cell_type": "code",
   "execution_count": null,
   "metadata": {},
   "outputs": [],
   "source": [
    "fig, ax = plt.subplots(figsize=(12, 12))\n",
    "nx.draw_networkx_nodes(graph, pos=pos, ax=ax, node_color='lightgray',\n",
    "                       edgecolors='black', node_size=2000)\n",
    "nx.draw_networkx_labels(graph, pos=pos, ax=ax, labels=dict(zip(nodes, nodes)),\n",
    "                        font_size=20)\n",
    "nx.draw_networkx_edges(graph, pos=pos, ax=ax, node_size=2000, arrowsize=25)\n",
    "nx.draw_networkx_edge_labels(graph, pos=pos, ax=ax, edge_labels=distances,\n",
    "                             font_size=16, rotate=False)\n",
    "plt.show()"
   ]
  },
  {
   "cell_type": "markdown",
   "metadata": {},
   "source": [
    "## Define Sets of Incoming and Outgoing Edges\n",
    "This data preprocessing step makes our lives easier when we define the flow balance constraints. For large graphs, doing this ahead of time in preprocessing (as opposed to on-the-fly during model construction) reduces model build time from $\\mathcal{O}(n^2)$ and $\\mathcal{O}(n)$."
   ]
  },
  {
   "cell_type": "code",
   "execution_count": null,
   "metadata": {},
   "outputs": [],
   "source": [
    "Vm = defaultdict(set)\n",
    "Vp = defaultdict(set)\n",
    "for (i, j) in edges:\n",
    "    Vm[i].add(j)\n",
    "    Vp[j].add(i)"
   ]
  },
  {
   "cell_type": "markdown",
   "metadata": {},
   "source": [
    "## Formulate the Shortest Path MIP"
   ]
  },
  {
   "cell_type": "markdown",
   "metadata": {},
   "source": [
    "Let $\\mathcal{G} = (\\mathcal{V}, \\mathcal{E})$ be the graph. Let $s$ and $t$ be the start and terminal nodes, respectively, and let $d_{i,j}$ denote distance from node $i$ to node $j$. As variables, let $x_{i,j}$ be a 0-1 variable indicating the decision to permit flow across edge $(i, j)$. We also introduce the following notation to describe adjacent nodes on incoming and outgoing edges.\n",
    "\n",
    "\\begin{aligned}\n",
    "    \\mathcal{V}^-(i) = \\{j\\ |\\ (i, j) \\in \\mathcal{E}\\} \\\\\n",
    "    \\mathcal{V}^+(i) = \\{j\\ |\\ (j, i) \\in \\mathcal{E}\\}\n",
    "\\end{aligned}\n",
    "\n",
    "We require one unit of flow to enter the graph at start node $s$ and one unit of flow to leave the graph at terminal node $t$. At every other node, we require flow balance. Our objective is to minimize the length of the path satisfying the constraints. That is, we find the distance-weighted sum of the $x_{i,j}$ variables, the shortest path.\n",
    "\n",
    "$$\n",
    "\\begin{alignat*}{3}\n",
    "\\text{minimize  }  & \\sum_{(i, j) \\in \\mathcal{E}} d_{ij} x_{ij} && \\\\\n",
    "\\text{subject to  }\n",
    "& \\sum_{j \\in \\mathcal{V}^-(s)} x_{sj} = 1 && \\\\\n",
    "& \\sum_{j \\in \\mathcal{V}^+(t)} x_{jt} = 1 && \\\\\n",
    "& \\sum_{j \\in \\mathcal{V}^+(i)} x_{ji} = \\sum_{j \\in \\mathcal{V}^-(i)} x_{ij},\n",
    "&& \\qquad \\forall i \\in \\mathcal{V} \\setminus \\{s, t\\} \\\\\n",
    "& x_{ij} \\in \\{0,1\\}, \n",
    "&& \\qquad \\forall (i, j) \\in \\mathcal{E}\n",
    "\\end{alignat*}\n",
    "$$"
   ]
  },
  {
   "cell_type": "markdown",
   "metadata": {},
   "source": [
    "## Create the `instance` Object"
   ]
  },
  {
   "cell_type": "code",
   "execution_count": null,
   "metadata": {},
   "outputs": [],
   "source": [
    "instance = pe.ConcreteModel()"
   ]
  },
  {
   "cell_type": "markdown",
   "metadata": {},
   "source": [
    "## Define the Sets\n",
    "Notice use of `within` when defining the set of edges. This ensures that $\\mathcal{E} \\subseteq \\mathcal{V} \\times \\mathcal{V}$. While this is not necessary, it is good practice and will help identify data errors."
   ]
  },
  {
   "cell_type": "code",
   "execution_count": null,
   "metadata": {},
   "outputs": [],
   "source": [
    "instance.nodes = pe.Set(initialize=nodes)\n",
    "instance.edges = pe.Set(within=instance.nodes*instance.nodes, initialize=edges)"
   ]
  },
  {
   "cell_type": "markdown",
   "metadata": {},
   "source": [
    "## Define the Parameters\n",
    "The first argument of `pe.Param` is the set in which the parameters are indexed. For example, distances are defined on the set of edges. The `initialize` argument here should be a dictionary-like construct. The dictionary keys should match align with the index set and the values are... well... the values. Notice also that $\\mathcal{V}^+(\\cdot)$ and $\\mathcal{V}^-(\\cdot)$ are indexed *sets*, not technically *parameters*. Pyomo does not directly support \"jagged\" sets like this, but using `pe.Param` is one way to implement such a feature."
   ]
  },
  {
   "cell_type": "code",
   "execution_count": null,
   "metadata": {},
   "outputs": [],
   "source": [
    "instance.Vm = pe.Param(instance.nodes, initialize=Vm, default=set(), within=pe.Any)\n",
    "instance.Vp = pe.Param(instance.nodes, initialize=Vp, default=set(), within=pe.Any)\n",
    "instance.s = 0\n",
    "instance.t = 9\n",
    "instance.distances = pe.Param(instance.edges, initialize=distances)"
   ]
  },
  {
   "cell_type": "markdown",
   "metadata": {},
   "source": [
    "# Define the Variables\n",
    "Just as it was with `pe.Param`, the first argument to `pe.Var` is the index set in which the variables are indexed. Optionally, we may define the domain of the variable set. Here, we require each $x_{i,j}$ to be binary -- either 0 or 1. If not explicitly defined, the domain is assumed to be the set of all real numbers (`pe.Reals`)."
   ]
  },
  {
   "cell_type": "code",
   "execution_count": null,
   "metadata": {},
   "outputs": [],
   "source": [
    "instance.x = pe.Var(instance.edges, domain=pe.Binary)"
   ]
  },
  {
   "cell_type": "markdown",
   "metadata": {},
   "source": [
    "As you will learn in IP, the constraint matrix is totally unimodular. Consequently, the variables will assume integer values even if they are relaxed to the $[0, 1]$ interval. Below, we implement the relaxation using a combination of `domain` and `bounds`."
   ]
  },
  {
   "cell_type": "code",
   "execution_count": null,
   "metadata": {},
   "outputs": [],
   "source": [
    "# totally unimodular constraint matrix\n",
    "# instance.x = pe.Var(instance.edges, domain=pe.Reals, bounds=(0, 1))"
   ]
  },
  {
   "cell_type": "markdown",
   "metadata": {},
   "source": [
    "## Define the Objective"
   ]
  },
  {
   "cell_type": "code",
   "execution_count": null,
   "metadata": {},
   "outputs": [],
   "source": [
    "def shortest_path(instance):\n",
    "    return sum(instance.distances[i, j] * instance.x[i, j]\n",
    "               for (i, j) in instance.edges)\n",
    "\n",
    "instance.shortest_path = pe.Objective(sense=pe.minimize, rule=shortest_path)"
   ]
  },
  {
   "cell_type": "code",
   "execution_count": null,
   "metadata": {},
   "outputs": [],
   "source": [
    "# instance.shortest_path = pe.Objective()\n",
    "# instance.shortest_path.sense = pe.minimize\n",
    "# obj_expr = sum(instance.distances[i, j] * instance.x[i, j]\n",
    "#                for (i, j) in instance.edges)\n",
    "# instance.shortest_path.expr = obj_expr"
   ]
  },
  {
   "cell_type": "markdown",
   "metadata": {},
   "source": [
    "## Define the Constraints"
   ]
  },
  {
   "cell_type": "code",
   "execution_count": null,
   "metadata": {},
   "outputs": [],
   "source": [
    "def flow_balance(instance, i):\n",
    "    flow_in = sum([instance.x[j, i] for j in instance.Vp[i]])\n",
    "    flow_out = sum([instance.x[i, j] for j in instance.Vm[i]])\n",
    "    if i == instance.s:\n",
    "        constraint = (flow_out == 1)\n",
    "    elif i == instance.t:\n",
    "        constraint = (flow_in == 1)\n",
    "    else:\n",
    "        constraint = (flow_in == flow_out)\n",
    "    return constraint\n",
    "\n",
    "instance.flow_balance = pe.Constraint(instance.nodes, rule=flow_balance)"
   ]
  },
  {
   "cell_type": "code",
   "execution_count": null,
   "metadata": {},
   "outputs": [],
   "source": [
    "# instance.flow_balance = pe.ConstraintList()\n",
    "# for i in instance.nodes:\n",
    "#     if i == instance.s:\n",
    "#         lhs = sum(instance.x[i, j] for j in instance.Vm[i])\n",
    "#         rhs = 1\n",
    "#     elif i == instance.t:\n",
    "#         lhs = sum(instance.x[j, i] for j in instance.Vp[i])\n",
    "#         rhs = 1\n",
    "#     else:\n",
    "#         lhs = sum(instance.x[i, j] for j in instance.Vm[i])\n",
    "#         rhs = sum(instance.x[j, i] for j in instance.Vp[i])\n",
    "#     instance.flow_balance.add(lhs == rhs)"
   ]
  },
  {
   "cell_type": "code",
   "execution_count": null,
   "metadata": {},
   "outputs": [],
   "source": [
    "solver = po.SolverFactory('glpk') # 'glpk', 'gurobi', 'bonmin', 'mosek'\n",
    "result = solver.solve(instance)"
   ]
  },
  {
   "cell_type": "markdown",
   "metadata": {},
   "source": [
    "Interpret the output to determine the shortest path."
   ]
  },
  {
   "cell_type": "code",
   "execution_count": null,
   "metadata": {},
   "outputs": [],
   "source": [
    "i = int(instance.s)\n",
    "path_nodes = [i]\n",
    "path_edges = []\n",
    "stop = False\n",
    "while not stop:\n",
    "    for j in delta_neg[i]:\n",
    "        if instance.x[i, j].value == 1:\n",
    "            if j == int(instance.t):\n",
    "                stop = True\n",
    "            path_nodes.append(j)\n",
    "            path_edges.append((i, j))\n",
    "            i = j\n",
    "            break\n",
    "\n",
    "display(path_nodes)"
   ]
  },
  {
   "cell_type": "markdown",
   "metadata": {},
   "source": [
    "## Visualize Solution with NetworkX"
   ]
  },
  {
   "cell_type": "code",
   "execution_count": null,
   "metadata": {},
   "outputs": [],
   "source": [
    "node_colors = ['lightblue' if i in path_nodes else 'lightgray'\n",
    "               for i in graph.nodes]\n",
    "edge_colors = ['blue' if (i, j) in path_edges else 'black'\n",
    "               for (i, j) in graph.edges]\n",
    "edge_widths = [2 if (i, j) in path_edges else 1\n",
    "               for (i, j) in graph.edges]"
   ]
  },
  {
   "cell_type": "code",
   "execution_count": null,
   "metadata": {},
   "outputs": [],
   "source": [
    "fig, ax = plt.subplots(figsize=(12, 12))\n",
    "\n",
    "nx.draw_networkx_nodes(graph, pos=pos, ax=ax, node_color=node_colors,\n",
    "                       edgecolors='black', node_size=2000)\n",
    "nx.draw_networkx_labels(graph, pos=pos, ax=ax, labels=dict(zip(nodes, nodes)),\n",
    "                        font_size=20)\n",
    "nx.draw_networkx_edges(graph, pos=pos, ax=ax, node_size=2000, arrowsize=25,\n",
    "                       edge_color=edge_colors, width=edge_widths)\n",
    "nx.draw_networkx_edge_labels(graph, pos=pos, ax=ax, edge_labels=distances,\n",
    "                             font_size=16, rotate=False)\n",
    "nx.draw_networkx_edges\n",
    "plt.show()"
   ]
  }
 ],
 "metadata": {
  "kernelspec": {
   "display_name": "Python 3",
   "language": "python",
   "name": "python3"
  },
  "language_info": {
   "codemirror_mode": {
    "name": "ipython",
    "version": 3
   },
   "file_extension": ".py",
   "mimetype": "text/x-python",
   "name": "python",
   "nbconvert_exporter": "python",
   "pygments_lexer": "ipython3",
   "version": "3.7.4"
  }
 },
 "nbformat": 4,
 "nbformat_minor": 4
}
