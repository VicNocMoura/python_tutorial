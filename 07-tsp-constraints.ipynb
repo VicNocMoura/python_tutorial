{
 "cells": [
  {
   "cell_type": "code",
   "execution_count": null,
   "metadata": {},
   "outputs": [],
   "source": [
    "from collections import defaultdict\n",
    "from itertools import chain, combinations, product\n",
    "\n",
    "import pyomo.environ as pe\n",
    "import pyomo.opt as po"
   ]
  },
  {
   "cell_type": "code",
   "execution_count": null,
   "metadata": {},
   "outputs": [],
   "source": [
    "def powerset(iterable):\n",
    "    s = list(iterable)\n",
    "    return chain.from_iterable(combinations(s, r) for r in range(len(s)+1))"
   ]
  },
  {
   "cell_type": "code",
   "execution_count": null,
   "metadata": {},
   "outputs": [],
   "source": [
    "def get_cycle(model, start_node):\n",
    "\n",
    "    i = start_node\n",
    "    sol_edges = {e for e in model.E if model.x[e].value > 0.5}\n",
    "    path_nodes = [i]\n",
    "    path_edges = list()\n",
    "\n",
    "    while True:\n",
    "        for (a, b) in sol_edges:\n",
    "            if i in (a, b) and model.x[a, b].value == 1:\n",
    "                if a == i:\n",
    "                    path_nodes.append(b)\n",
    "                    path_edges.append((a, b))\n",
    "                    sol_edges.remove((a, b))\n",
    "                    i = b\n",
    "                    break\n",
    "                if b == i:\n",
    "                    path_nodes.append(a)\n",
    "                    path_edges.append((a, b))\n",
    "                    sol_edges.remove((a, b))\n",
    "                    i = a\n",
    "                    break\n",
    "\n",
    "        if len(path_nodes) > 1 and path_nodes[-1] == start_node:\n",
    "            break\n",
    "            \n",
    "    return path_edges"
   ]
  },
  {
   "cell_type": "code",
   "execution_count": null,
   "metadata": {},
   "outputs": [],
   "source": [
    "V = {'A', 'B', 'C', 'D', 'E', 'F', 'G', 'H'}\n",
    "E = {('A', 'B'), ('A', 'C'), ('A', 'D'), ('A', 'G'),\n",
    "     ('B', 'E'), ('B', 'F'), ('C', 'G'), ('D', 'E'),\n",
    "     ('D', 'G'), ('E', 'H'), ('F', 'H'), ('G', 'H')}\n",
    "c = {('A', 'B'): 5, ('A', 'C'): 1, ('A', 'D'): 2, ('A', 'G'): 1,\n",
    "     ('B', 'E'): 2, ('B', 'F'): 1, ('C', 'G'): 1, ('D', 'E'): 1,\n",
    "     ('D', 'G'): 2, ('E', 'H'): 2, ('F', 'H'): 1, ('G', 'H'): 4}"
   ]
  },
  {
   "cell_type": "code",
   "execution_count": null,
   "metadata": {},
   "outputs": [],
   "source": [
    "E_of_i = defaultdict(set)\n",
    "for (i, j) in E:\n",
    "    E_of_i[i].add((i, j))\n",
    "    E_of_i[j].add((i, j))"
   ]
  },
  {
   "cell_type": "markdown",
   "metadata": {},
   "source": [
    "# Approach \\#1\n",
    "Use a `ConstraintList`. Iterate over sets in the power set of nodes."
   ]
  },
  {
   "cell_type": "code",
   "execution_count": null,
   "metadata": {},
   "outputs": [],
   "source": [
    "model = pe.ConcreteModel()\n",
    "\n",
    "model.V = pe.Set(initialize=V)\n",
    "model.E = pe.Set(initialize=E)\n",
    "model.c = pe.Param(model.E, initialize=c)\n",
    "model.E_of_i = pe.Param(model.V, initialize=E_of_i)\n",
    "\n",
    "model.x = pe.Var(model.E, domain=pe.Reals, bounds=(0, 1))\n",
    "\n",
    "obj_expr = sum(model.c[e] * model.x[e] for e in model.E)\n",
    "model.obj = pe.Objective(sense=pe.minimize, expr=obj_expr)\n",
    "\n",
    "def con_flow_balance(model, i):\n",
    "    return sum(model.x[e] for e in model.E_of_i[i]) == 2\n",
    "model.con_flow_balance = pe.Constraint(model.V, rule=con_flow_balance)\n",
    "\n",
    "model.con_no_subtours = pe.ConstraintList()\n",
    "for S in powerset(model.V):\n",
    "    if 2 <= len(S) <= len(model.V) - 1:\n",
    "        E_of_S = set((a, b)\n",
    "                     for i in S\n",
    "                     for (a, b) in model.E_of_i[i]\n",
    "                     if a in S and b in S)\n",
    "        if E_of_S:\n",
    "            lhs_expr = sum(model.x[e] for e in E_of_S)\n",
    "            rhs_expr = len(S) - 1\n",
    "            model.con_no_subtours.add(lhs_expr <= rhs_expr)\n",
    "            \n",
    "solver.solve(model)\n",
    "\n",
    "print(get_cycle(model, 'A'))"
   ]
  },
  {
   "cell_type": "markdown",
   "metadata": {},
   "source": [
    "# Approach \\#2\n",
    "Initially solve the problem without the subtour elimination constraints. If the solution has subtours, add a cut that eliminates the subtour and resolve. Repeat until the solution is a single tour."
   ]
  },
  {
   "cell_type": "code",
   "execution_count": null,
   "metadata": {},
   "outputs": [],
   "source": [
    "model = pe.ConcreteModel()\n",
    "\n",
    "model.V = pe.Set(initialize=V)\n",
    "model.E = pe.Set(initialize=E)\n",
    "model.c = pe.Param(model.E, initialize=c)\n",
    "model.E_of_i = pe.Param(model.V, initialize=E_of_i)\n",
    "\n",
    "model.x = pe.Var(model.E, domain=pe.Reals, bounds=(0, 1))\n",
    "\n",
    "obj_expr = sum(model.c[e] * model.x[e] for e in model.E)\n",
    "model.obj = pe.Objective(sense=pe.minimize, expr=obj_expr)\n",
    "\n",
    "def con_flow_balance(model, i):\n",
    "    return sum(model.x[e] for e in model.E_of_i[i]) == 2\n",
    "model.con_flow_balance = pe.Constraint(model.V, rule=con_flow_balance)\n",
    "\n",
    "model.con_no_subtours = pe.ConstraintList()\n",
    "sol_edges = set()\n",
    "while len(sol_edges) < len(model.V):\n",
    "    solver = po.SolverFactory('gurobi')\n",
    "    solver.solve(model)\n",
    "    sol_edges = get_cycle(model, 'A')\n",
    "    lhs = sum(model.x[e] for e in sol_edges)\n",
    "    rhs = len(sol_edges) - 1\n",
    "    model.con_no_subtours.add(lhs <= rhs)\n",
    "    \n",
    "print(sol_edges)"
   ]
  },
  {
   "cell_type": "markdown",
   "metadata": {},
   "source": [
    "# Approach \\#3\n",
    "Make $\\mathcal{V}$ an ordered set (so that we may index it) and use an index set of binary strings to represent the power set. Then we can create a rule that takes the model and the binary string."
   ]
  },
  {
   "cell_type": "code",
   "execution_count": null,
   "metadata": {},
   "outputs": [],
   "source": [
    "model = pe.ConcreteModel()\n",
    "\n",
    "model.V = pe.Set(initialize=V, ordered=True)\n",
    "model.E = pe.Set(initialize=E)\n",
    "model.PowerSet = pe.Set(initialize=product([0, 1], repeat=len(model.V)))\n",
    "model.c = pe.Param(model.E, initialize=c)\n",
    "model.E_of_i = pe.Param(model.V, initialize=E_of_i)\n",
    "\n",
    "model.x = pe.Var(model.E, domain=pe.Reals, bounds=(0, 1))\n",
    "\n",
    "obj_expr = sum(model.c[e] * model.x[e] for e in model.E)\n",
    "model.obj = pe.Objective(sense=pe.minimize, expr=obj_expr)\n",
    "\n",
    "def con_flow_balance(model, i):\n",
    "    return sum(model.x[e] for e in model.E_of_i[i]) == 2\n",
    "model.con_flow_balance = pe.Constraint(model.V, rule=con_flow_balance)\n",
    "\n",
    "def con_no_subtours(model, *binary_string):\n",
    "    nodes = set(model.V[i] for i, bit in enumerate(binary_string, start=1) if bit)\n",
    "    edges = set(e for i in nodes for e in model.E_of_i[i] if set(e).issubset(nodes))\n",
    "    if 2 <= len(nodes) < len(model.V) and edges:\n",
    "        constr = sum(model.x[e] for e in edges) <= len(nodes) - 1\n",
    "    else:\n",
    "        constr = pe.Constraint.Skip\n",
    "    return constr\n",
    "model.con_no_subtours = pe.Constraint(model.PowerSet, rule=con_no_subtours)\n",
    "\n",
    "solver.solve(model)\n",
    "cycle = get_cycle(model, 'A')\n",
    "print(cycle)"
   ]
  }
 ],
 "metadata": {
  "kernelspec": {
   "display_name": "Python 3",
   "language": "python",
   "name": "python3"
  },
  "language_info": {
   "codemirror_mode": {
    "name": "ipython",
    "version": 3
   },
   "file_extension": ".py",
   "mimetype": "text/x-python",
   "name": "python",
   "nbconvert_exporter": "python",
   "pygments_lexer": "ipython3",
   "version": "3.7.4"
  }
 },
 "nbformat": 4,
 "nbformat_minor": 4
}
